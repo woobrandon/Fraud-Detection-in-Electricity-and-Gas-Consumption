{
 "cells": [
  {
   "cell_type": "markdown",
   "id": "fa942dd6-e0f4-4f34-b35b-702544137c0c",
   "metadata": {},
   "source": [
    "### **Fraud detection in electricity and gas consumption.**\n",
    "\n",
    "The Tunisian Company of Electricity and Gas (STEG) is a public and a non-administrative company, it is responsible for delivering electricity and gas aross Tunisia. The company suffered tremendous losses in the order of 200 million Tunisian Dinars due to fraudulent manipulations of meters by consumers.\n",
    "\n",
    "Using the client’s billing history, the aim of the challenge is to detect and recognize clients involved in fraudulent activities.  The solution will enhance the company’s revenues and reduce the losses caused by such fraudulent activities."
   ]
  },
  {
   "cell_type": "markdown",
   "id": "1a90572f-64bf-4807-a371-48067e1b60ed",
   "metadata": {},
   "source": [
    "The data consists of 2 datasets, invoice data and client data. Client data consist of variables describing variables relevant to the client like the region and district he is from, client category, the date the client joined and most importantly, if the client is a fraud (named target). The invoice data contrains information about the invoices sent to the clients and number of invoices per client is different. In order to merge the two dataframe together, data engineering was utilised to gain maintain as much information as possible. Due to the fact that the transcation set has many discrete variable, encoding is going to lead to high dimension and feature selection is used later to simplify the model."
   ]
  },
  {
   "cell_type": "markdown",
   "id": "7f601d28-d616-467d-ba0e-5d33fdf79e02",
   "metadata": {},
   "source": [
    "### **Data cleaning**"
   ]
  },
  {
   "cell_type": "code",
   "execution_count": 60,
   "id": "5eb97253-0b16-4619-8a0d-9f672b12c553",
   "metadata": {},
   "outputs": [],
   "source": [
    "import numpy as np\n",
    "import pandas as pd\n",
    "import datetime\n",
    "\n",
    "client_train_df = pd.read_csv(\"client_train.csv\")\n",
    "#client_test_df = pd.read_csv(\"client_test.csv\")\n",
    "invoice_train_df = pd.read_csv(\"invoice_train.csv\", low_memory = False)\n",
    "#invoice_test_df = pd.read_csv(\"invoice_test.csv\")"
   ]
  },
  {
   "cell_type": "code",
   "execution_count": 61,
   "id": "6012b0dc-38a5-4c5e-8880-81112b83ed91",
   "metadata": {},
   "outputs": [],
   "source": [
    "def data_cleaning(invoice_df,client_df):\n",
    "    \n",
    "    global cateogrical, consom_lvls\n",
    "    \n",
    "    # drop na and duplicated rows\n",
    "    invoice_df.dropna(inplace = True, ignore_index = True)\n",
    "    client_df.dropna(inplace = True, ignore_index = True)\n",
    "    invoice_df.drop_duplicates(inplace = True, ignore_index = True)\n",
    "    client_df.drop_duplicates(inplace = True, ignore_index = True)\n",
    "\n",
    "    return invoice_df,client_df\n",
    "(invoice_train_df,client_train_df) = data_cleaning(invoice_train_df,client_train_df)"
   ]
  },
  {
   "cell_type": "markdown",
   "id": "e17d1bdc-6938-4683-8e9c-1ad20356d3ba",
   "metadata": {},
   "source": [
    "### **Exploratory Data Analysis**"
   ]
  },
  {
   "cell_type": "code",
   "execution_count": 62,
   "id": "72ab63d1-6a5f-4134-afba-273c4efdba5a",
   "metadata": {},
   "outputs": [
    {
     "data": {
      "text/html": [
       "<div>\n",
       "<style scoped>\n",
       "    .dataframe tbody tr th:only-of-type {\n",
       "        vertical-align: middle;\n",
       "    }\n",
       "\n",
       "    .dataframe tbody tr th {\n",
       "        vertical-align: top;\n",
       "    }\n",
       "\n",
       "    .dataframe thead th {\n",
       "        text-align: right;\n",
       "    }\n",
       "</style>\n",
       "<table border=\"1\" class=\"dataframe\">\n",
       "  <thead>\n",
       "    <tr style=\"text-align: right;\">\n",
       "      <th></th>\n",
       "      <th>client_id</th>\n",
       "      <th>invoice_date</th>\n",
       "      <th>tarif_type</th>\n",
       "      <th>counter_number</th>\n",
       "      <th>counter_statue</th>\n",
       "      <th>counter_code</th>\n",
       "      <th>reading_remarque</th>\n",
       "      <th>counter_coefficient</th>\n",
       "      <th>consommation_level_1</th>\n",
       "      <th>consommation_level_2</th>\n",
       "      <th>consommation_level_3</th>\n",
       "      <th>consommation_level_4</th>\n",
       "      <th>old_index</th>\n",
       "      <th>new_index</th>\n",
       "      <th>months_number</th>\n",
       "      <th>counter_type</th>\n",
       "    </tr>\n",
       "  </thead>\n",
       "  <tbody>\n",
       "    <tr>\n",
       "      <th>0</th>\n",
       "      <td>train_Client_0</td>\n",
       "      <td>2014-03-24</td>\n",
       "      <td>11</td>\n",
       "      <td>1335667</td>\n",
       "      <td>0</td>\n",
       "      <td>203</td>\n",
       "      <td>8</td>\n",
       "      <td>1</td>\n",
       "      <td>82</td>\n",
       "      <td>0</td>\n",
       "      <td>0</td>\n",
       "      <td>0</td>\n",
       "      <td>14302</td>\n",
       "      <td>14384</td>\n",
       "      <td>4</td>\n",
       "      <td>ELEC</td>\n",
       "    </tr>\n",
       "    <tr>\n",
       "      <th>1</th>\n",
       "      <td>train_Client_0</td>\n",
       "      <td>2013-03-29</td>\n",
       "      <td>11</td>\n",
       "      <td>1335667</td>\n",
       "      <td>0</td>\n",
       "      <td>203</td>\n",
       "      <td>6</td>\n",
       "      <td>1</td>\n",
       "      <td>1200</td>\n",
       "      <td>184</td>\n",
       "      <td>0</td>\n",
       "      <td>0</td>\n",
       "      <td>12294</td>\n",
       "      <td>13678</td>\n",
       "      <td>4</td>\n",
       "      <td>ELEC</td>\n",
       "    </tr>\n",
       "    <tr>\n",
       "      <th>2</th>\n",
       "      <td>train_Client_0</td>\n",
       "      <td>2015-03-23</td>\n",
       "      <td>11</td>\n",
       "      <td>1335667</td>\n",
       "      <td>0</td>\n",
       "      <td>203</td>\n",
       "      <td>8</td>\n",
       "      <td>1</td>\n",
       "      <td>123</td>\n",
       "      <td>0</td>\n",
       "      <td>0</td>\n",
       "      <td>0</td>\n",
       "      <td>14624</td>\n",
       "      <td>14747</td>\n",
       "      <td>4</td>\n",
       "      <td>ELEC</td>\n",
       "    </tr>\n",
       "    <tr>\n",
       "      <th>3</th>\n",
       "      <td>train_Client_0</td>\n",
       "      <td>2015-07-13</td>\n",
       "      <td>11</td>\n",
       "      <td>1335667</td>\n",
       "      <td>0</td>\n",
       "      <td>207</td>\n",
       "      <td>8</td>\n",
       "      <td>1</td>\n",
       "      <td>102</td>\n",
       "      <td>0</td>\n",
       "      <td>0</td>\n",
       "      <td>0</td>\n",
       "      <td>14747</td>\n",
       "      <td>14849</td>\n",
       "      <td>4</td>\n",
       "      <td>ELEC</td>\n",
       "    </tr>\n",
       "    <tr>\n",
       "      <th>4</th>\n",
       "      <td>train_Client_0</td>\n",
       "      <td>2016-11-17</td>\n",
       "      <td>11</td>\n",
       "      <td>1335667</td>\n",
       "      <td>0</td>\n",
       "      <td>207</td>\n",
       "      <td>9</td>\n",
       "      <td>1</td>\n",
       "      <td>572</td>\n",
       "      <td>0</td>\n",
       "      <td>0</td>\n",
       "      <td>0</td>\n",
       "      <td>15066</td>\n",
       "      <td>15638</td>\n",
       "      <td>12</td>\n",
       "      <td>ELEC</td>\n",
       "    </tr>\n",
       "    <tr>\n",
       "      <th>...</th>\n",
       "      <td>...</td>\n",
       "      <td>...</td>\n",
       "      <td>...</td>\n",
       "      <td>...</td>\n",
       "      <td>...</td>\n",
       "      <td>...</td>\n",
       "      <td>...</td>\n",
       "      <td>...</td>\n",
       "      <td>...</td>\n",
       "      <td>...</td>\n",
       "      <td>...</td>\n",
       "      <td>...</td>\n",
       "      <td>...</td>\n",
       "      <td>...</td>\n",
       "      <td>...</td>\n",
       "      <td>...</td>\n",
       "    </tr>\n",
       "    <tr>\n",
       "      <th>4476733</th>\n",
       "      <td>train_Client_99998</td>\n",
       "      <td>2005-08-19</td>\n",
       "      <td>10</td>\n",
       "      <td>1253571</td>\n",
       "      <td>0</td>\n",
       "      <td>202</td>\n",
       "      <td>9</td>\n",
       "      <td>1</td>\n",
       "      <td>400</td>\n",
       "      <td>135</td>\n",
       "      <td>0</td>\n",
       "      <td>0</td>\n",
       "      <td>3197</td>\n",
       "      <td>3732</td>\n",
       "      <td>8</td>\n",
       "      <td>ELEC</td>\n",
       "    </tr>\n",
       "    <tr>\n",
       "      <th>4476734</th>\n",
       "      <td>train_Client_99998</td>\n",
       "      <td>2005-12-19</td>\n",
       "      <td>10</td>\n",
       "      <td>1253571</td>\n",
       "      <td>0</td>\n",
       "      <td>202</td>\n",
       "      <td>6</td>\n",
       "      <td>1</td>\n",
       "      <td>200</td>\n",
       "      <td>6</td>\n",
       "      <td>0</td>\n",
       "      <td>0</td>\n",
       "      <td>3732</td>\n",
       "      <td>3938</td>\n",
       "      <td>4</td>\n",
       "      <td>ELEC</td>\n",
       "    </tr>\n",
       "    <tr>\n",
       "      <th>4476735</th>\n",
       "      <td>train_Client_99999</td>\n",
       "      <td>1996-09-25</td>\n",
       "      <td>11</td>\n",
       "      <td>560948</td>\n",
       "      <td>0</td>\n",
       "      <td>203</td>\n",
       "      <td>6</td>\n",
       "      <td>1</td>\n",
       "      <td>259</td>\n",
       "      <td>0</td>\n",
       "      <td>0</td>\n",
       "      <td>0</td>\n",
       "      <td>13884</td>\n",
       "      <td>14143</td>\n",
       "      <td>4</td>\n",
       "      <td>ELEC</td>\n",
       "    </tr>\n",
       "    <tr>\n",
       "      <th>4476736</th>\n",
       "      <td>train_Client_99999</td>\n",
       "      <td>1996-05-28</td>\n",
       "      <td>11</td>\n",
       "      <td>560948</td>\n",
       "      <td>0</td>\n",
       "      <td>203</td>\n",
       "      <td>6</td>\n",
       "      <td>1</td>\n",
       "      <td>603</td>\n",
       "      <td>0</td>\n",
       "      <td>0</td>\n",
       "      <td>0</td>\n",
       "      <td>13281</td>\n",
       "      <td>13884</td>\n",
       "      <td>4</td>\n",
       "      <td>ELEC</td>\n",
       "    </tr>\n",
       "    <tr>\n",
       "      <th>4476737</th>\n",
       "      <td>train_Client_99999</td>\n",
       "      <td>1996-01-25</td>\n",
       "      <td>11</td>\n",
       "      <td>560948</td>\n",
       "      <td>0</td>\n",
       "      <td>203</td>\n",
       "      <td>6</td>\n",
       "      <td>1</td>\n",
       "      <td>516</td>\n",
       "      <td>0</td>\n",
       "      <td>0</td>\n",
       "      <td>0</td>\n",
       "      <td>12765</td>\n",
       "      <td>13281</td>\n",
       "      <td>4</td>\n",
       "      <td>ELEC</td>\n",
       "    </tr>\n",
       "  </tbody>\n",
       "</table>\n",
       "<p>4476738 rows × 16 columns</p>\n",
       "</div>"
      ],
      "text/plain": [
       "                  client_id invoice_date  tarif_type  counter_number  \\\n",
       "0            train_Client_0   2014-03-24          11         1335667   \n",
       "1            train_Client_0   2013-03-29          11         1335667   \n",
       "2            train_Client_0   2015-03-23          11         1335667   \n",
       "3            train_Client_0   2015-07-13          11         1335667   \n",
       "4            train_Client_0   2016-11-17          11         1335667   \n",
       "...                     ...          ...         ...             ...   \n",
       "4476733  train_Client_99998   2005-08-19          10         1253571   \n",
       "4476734  train_Client_99998   2005-12-19          10         1253571   \n",
       "4476735  train_Client_99999   1996-09-25          11          560948   \n",
       "4476736  train_Client_99999   1996-05-28          11          560948   \n",
       "4476737  train_Client_99999   1996-01-25          11          560948   \n",
       "\n",
       "        counter_statue  counter_code  reading_remarque  counter_coefficient  \\\n",
       "0                    0           203                 8                    1   \n",
       "1                    0           203                 6                    1   \n",
       "2                    0           203                 8                    1   \n",
       "3                    0           207                 8                    1   \n",
       "4                    0           207                 9                    1   \n",
       "...                ...           ...               ...                  ...   \n",
       "4476733              0           202                 9                    1   \n",
       "4476734              0           202                 6                    1   \n",
       "4476735              0           203                 6                    1   \n",
       "4476736              0           203                 6                    1   \n",
       "4476737              0           203                 6                    1   \n",
       "\n",
       "         consommation_level_1  consommation_level_2  consommation_level_3  \\\n",
       "0                          82                     0                     0   \n",
       "1                        1200                   184                     0   \n",
       "2                         123                     0                     0   \n",
       "3                         102                     0                     0   \n",
       "4                         572                     0                     0   \n",
       "...                       ...                   ...                   ...   \n",
       "4476733                   400                   135                     0   \n",
       "4476734                   200                     6                     0   \n",
       "4476735                   259                     0                     0   \n",
       "4476736                   603                     0                     0   \n",
       "4476737                   516                     0                     0   \n",
       "\n",
       "         consommation_level_4  old_index  new_index  months_number  \\\n",
       "0                           0      14302      14384              4   \n",
       "1                           0      12294      13678              4   \n",
       "2                           0      14624      14747              4   \n",
       "3                           0      14747      14849              4   \n",
       "4                           0      15066      15638             12   \n",
       "...                       ...        ...        ...            ...   \n",
       "4476733                     0       3197       3732              8   \n",
       "4476734                     0       3732       3938              4   \n",
       "4476735                     0      13884      14143              4   \n",
       "4476736                     0      13281      13884              4   \n",
       "4476737                     0      12765      13281              4   \n",
       "\n",
       "        counter_type  \n",
       "0               ELEC  \n",
       "1               ELEC  \n",
       "2               ELEC  \n",
       "3               ELEC  \n",
       "4               ELEC  \n",
       "...              ...  \n",
       "4476733         ELEC  \n",
       "4476734         ELEC  \n",
       "4476735         ELEC  \n",
       "4476736         ELEC  \n",
       "4476737         ELEC  \n",
       "\n",
       "[4476738 rows x 16 columns]"
      ]
     },
     "execution_count": 62,
     "metadata": {},
     "output_type": "execute_result"
    }
   ],
   "source": [
    "invoice_train_df"
   ]
  },
  {
   "cell_type": "code",
   "execution_count": 63,
   "id": "2ae0888e-69fa-441c-bf20-56b18a72536f",
   "metadata": {},
   "outputs": [
    {
     "data": {
      "text/html": [
       "<div>\n",
       "<style scoped>\n",
       "    .dataframe tbody tr th:only-of-type {\n",
       "        vertical-align: middle;\n",
       "    }\n",
       "\n",
       "    .dataframe tbody tr th {\n",
       "        vertical-align: top;\n",
       "    }\n",
       "\n",
       "    .dataframe thead th {\n",
       "        text-align: right;\n",
       "    }\n",
       "</style>\n",
       "<table border=\"1\" class=\"dataframe\">\n",
       "  <thead>\n",
       "    <tr style=\"text-align: right;\">\n",
       "      <th></th>\n",
       "      <th>disrict</th>\n",
       "      <th>client_id</th>\n",
       "      <th>client_catg</th>\n",
       "      <th>region</th>\n",
       "      <th>creation_date</th>\n",
       "      <th>target</th>\n",
       "    </tr>\n",
       "  </thead>\n",
       "  <tbody>\n",
       "    <tr>\n",
       "      <th>0</th>\n",
       "      <td>60</td>\n",
       "      <td>train_Client_0</td>\n",
       "      <td>11</td>\n",
       "      <td>101</td>\n",
       "      <td>31/12/1994</td>\n",
       "      <td>0.0</td>\n",
       "    </tr>\n",
       "    <tr>\n",
       "      <th>1</th>\n",
       "      <td>69</td>\n",
       "      <td>train_Client_1</td>\n",
       "      <td>11</td>\n",
       "      <td>107</td>\n",
       "      <td>29/05/2002</td>\n",
       "      <td>0.0</td>\n",
       "    </tr>\n",
       "    <tr>\n",
       "      <th>2</th>\n",
       "      <td>62</td>\n",
       "      <td>train_Client_10</td>\n",
       "      <td>11</td>\n",
       "      <td>301</td>\n",
       "      <td>13/03/1986</td>\n",
       "      <td>0.0</td>\n",
       "    </tr>\n",
       "    <tr>\n",
       "      <th>3</th>\n",
       "      <td>69</td>\n",
       "      <td>train_Client_100</td>\n",
       "      <td>11</td>\n",
       "      <td>105</td>\n",
       "      <td>11/07/1996</td>\n",
       "      <td>0.0</td>\n",
       "    </tr>\n",
       "    <tr>\n",
       "      <th>4</th>\n",
       "      <td>62</td>\n",
       "      <td>train_Client_1000</td>\n",
       "      <td>11</td>\n",
       "      <td>303</td>\n",
       "      <td>14/10/2014</td>\n",
       "      <td>0.0</td>\n",
       "    </tr>\n",
       "    <tr>\n",
       "      <th>...</th>\n",
       "      <td>...</td>\n",
       "      <td>...</td>\n",
       "      <td>...</td>\n",
       "      <td>...</td>\n",
       "      <td>...</td>\n",
       "      <td>...</td>\n",
       "    </tr>\n",
       "    <tr>\n",
       "      <th>135488</th>\n",
       "      <td>62</td>\n",
       "      <td>train_Client_99995</td>\n",
       "      <td>11</td>\n",
       "      <td>304</td>\n",
       "      <td>26/07/2004</td>\n",
       "      <td>0.0</td>\n",
       "    </tr>\n",
       "    <tr>\n",
       "      <th>135489</th>\n",
       "      <td>63</td>\n",
       "      <td>train_Client_99996</td>\n",
       "      <td>11</td>\n",
       "      <td>311</td>\n",
       "      <td>25/10/2012</td>\n",
       "      <td>0.0</td>\n",
       "    </tr>\n",
       "    <tr>\n",
       "      <th>135490</th>\n",
       "      <td>63</td>\n",
       "      <td>train_Client_99997</td>\n",
       "      <td>11</td>\n",
       "      <td>311</td>\n",
       "      <td>22/11/2011</td>\n",
       "      <td>0.0</td>\n",
       "    </tr>\n",
       "    <tr>\n",
       "      <th>135491</th>\n",
       "      <td>60</td>\n",
       "      <td>train_Client_99998</td>\n",
       "      <td>11</td>\n",
       "      <td>101</td>\n",
       "      <td>22/12/1993</td>\n",
       "      <td>0.0</td>\n",
       "    </tr>\n",
       "    <tr>\n",
       "      <th>135492</th>\n",
       "      <td>60</td>\n",
       "      <td>train_Client_99999</td>\n",
       "      <td>11</td>\n",
       "      <td>101</td>\n",
       "      <td>18/02/1986</td>\n",
       "      <td>0.0</td>\n",
       "    </tr>\n",
       "  </tbody>\n",
       "</table>\n",
       "<p>135493 rows × 6 columns</p>\n",
       "</div>"
      ],
      "text/plain": [
       "        disrict           client_id  client_catg  region creation_date  target\n",
       "0            60      train_Client_0           11     101    31/12/1994     0.0\n",
       "1            69      train_Client_1           11     107    29/05/2002     0.0\n",
       "2            62     train_Client_10           11     301    13/03/1986     0.0\n",
       "3            69    train_Client_100           11     105    11/07/1996     0.0\n",
       "4            62   train_Client_1000           11     303    14/10/2014     0.0\n",
       "...         ...                 ...          ...     ...           ...     ...\n",
       "135488       62  train_Client_99995           11     304    26/07/2004     0.0\n",
       "135489       63  train_Client_99996           11     311    25/10/2012     0.0\n",
       "135490       63  train_Client_99997           11     311    22/11/2011     0.0\n",
       "135491       60  train_Client_99998           11     101    22/12/1993     0.0\n",
       "135492       60  train_Client_99999           11     101    18/02/1986     0.0\n",
       "\n",
       "[135493 rows x 6 columns]"
      ]
     },
     "execution_count": 63,
     "metadata": {},
     "output_type": "execute_result"
    }
   ],
   "source": [
    "client_train_df"
   ]
  },
  {
   "cell_type": "code",
   "execution_count": 64,
   "id": "b430c0ea-ddf4-4c15-99a8-52ac4ccdc6f4",
   "metadata": {},
   "outputs": [
    {
     "name": "stdout",
     "output_type": "stream",
     "text": [
      "Percentage of fraudulent cases: 5.58%\n"
     ]
    },
    {
     "data": {
      "image/png": "[encoded data removed]",
      "text/plain": [
       "<Figure size 640x480 with 1 Axes>"
      ]
     },
     "metadata": {},
     "output_type": "display_data"
    }
   ],
   "source": [
    "import matplotlib.pyplot as plt\n",
    "\n",
    "fraud_count = client_train_df.groupby(['target'])['client_id'].count()\n",
    "plt.bar(x = fraud_count.index, height = fraud_count.values, tick_label =[0,1])\n",
    "plt.title('Fraud distribution')\n",
    "percentage = 100 * fraud_count.values[1]/len(client_train_df.index)\n",
    "print(\"Percentage of fraudulent cases: \" + str(percentage)[:4] + '%')"
   ]
  },
  {
   "cell_type": "code",
   "execution_count": 65,
   "id": "cf1e9fb6-b908-45fa-adeb-8950429ccec0",
   "metadata": {},
   "outputs": [
    {
     "data": {
      "image/png": "[encoded data removed]",
      "text/plain": [
       "<Figure size 640x480 with 1 Axes>"
      ]
     },
     "metadata": {},
     "output_type": "display_data"
    }
   ],
   "source": [
    "invoice_per_client = invoice_train_df.groupby(['client_id']).size()\n",
    "plt.hist(invoice_per_client, bins = 100)\n",
    "plt.title('Invoice per client')\n",
    "plt.xlabel(\"Invoice\")\n",
    "plt.show()"
   ]
  },
  {
   "cell_type": "code",
   "execution_count": 69,
   "id": "42942933-4708-4b65-8448-cd8026418cae",
   "metadata": {},
   "outputs": [
    {
     "name": "stdout",
     "output_type": "stream",
     "text": [
      "target      0.0     1.0  percentage of fraud\n",
      "region                                      \n",
      "103      8041.0   923.0            10.296743\n",
      "372       579.0    65.0            10.093168\n",
      "311     11408.0   998.0             8.044495\n",
      "106       653.0    53.0             7.507082\n",
      "308       780.0    61.0             7.253270\n",
      "371      1917.0   148.0             7.167070\n",
      "313      1929.0   147.0             7.080925\n",
      "379       544.0    39.0             6.689537\n",
      "304      3572.0   256.0             6.687565\n",
      "107      9340.0   658.0             6.581316\n",
      "307      3166.0   210.0             6.220379\n",
      "302      4045.0   266.0             6.170262\n",
      "305      2559.0   157.0             5.780560\n",
      "104     12145.0   720.0             5.596580\n",
      "105      1553.0    92.0             5.592705\n",
      "303      5656.0   326.0             5.449682\n",
      "310      4604.0   247.0             5.091734\n",
      "312      4161.0   218.0             4.978306\n",
      "306      5750.0   294.0             4.864328\n",
      "309      3511.0   158.0             4.306351\n",
      "101     32557.0  1213.0             3.591946\n",
      "301      9229.0   315.0             3.300503\n",
      "206        52.0     1.0             1.886792\n",
      "399       174.0     1.0             0.571429\n",
      "199         2.0     0.0             0.000000\n"
     ]
    }
   ],
   "source": [
    "fraud_region = client_train_df.groupby(['region',\"target\"]).size().to_frame().reset_index()\n",
    "fraud_region = fraud_region.pivot_table(index = 'region', values = 0, columns = 'target',fill_value = 0)\n",
    "fraud_region['percentage of fraud'] = 100 * fraud_region[1.0] / (fraud_region[0.0] + fraud_region[1.0])\n",
    "fraud_region.sort_values(by = \"percentage of fraud\" , inplace = True, ascending = False)\n",
    "print(fraud_region)"
   ]
  },
  {
   "cell_type": "markdown",
   "id": "f023c902-4338-4cc7-96a2-e6fc924ecbc5",
   "metadata": {},
   "source": [
    "### **Feature Engineering**"
   ]
  },
  {
   "cell_type": "code",
   "execution_count": 70,
   "id": "835e6619-8f50-4188-bf0d-cba45bf1f2ba",
   "metadata": {},
   "outputs": [],
   "source": [
    "cateogrical = [\"tarif_type\",\"counter_statue\",\"counter_code\",\"reading_remarque\",\"counter_coefficient\",\"counter_type\"]\n",
    "consom_lvls = [\"consommation_level_1\",\"consommation_level_2\",\"consommation_level_3\",\"consommation_level_4\"]"
   ]
  },
  {
   "cell_type": "code",
   "execution_count": 71,
   "id": "4159b575-59ec-4d23-bb19-5d996ba7f7b6",
   "metadata": {},
   "outputs": [],
   "source": [
    "def feature_engineering(invoice_df,client_df):\n",
    "    \n",
    "    global cateogrical, consom_lvls                                                   \n",
    "\n",
    "    invoice_df[\"invoice_date\"] = pd.to_datetime(invoice_df[\"invoice_date\"],format = '%Y-%m-%d', dayfirst = True)\n",
    "    client_df.drop(\"creation_date\", axis = 1, inplace = True)  \n",
    "    invoice_df.sort_values(by = [\"client_id\",\"invoice_date\"], ignore_index = True , inplace = True)\n",
    "    invoice_df.reset_index(drop = True, inplace = True)\n",
    "    \n",
    "    invoice_df['delta_index'] =  invoice_df['new_index'] - invoice_df['old_index']\n",
    "    invoice_df = pd.get_dummies(invoice_df, columns = cateogrical, dtype = \"int\", drop_first = True)\n",
    "    client_df[\"region\"] = client_df[\"region\"] // 200 * 200\n",
    "    client_df = pd.get_dummies(client_df, columns = ['disrict', 'client_catg', 'region'], dtype = \"int\", \n",
    "                               drop_first = True)\n",
    "    invoice_columns = list(invoice_df.columns)\n",
    "    \n",
    "    updated_cateogrical = invoice_columns[11:]\n",
    "    cateogrical_data = invoice_df.groupby(by = \"client_id\")[updated_cateogrical].sum()\n",
    "    size = invoice_df.groupby(by = \"client_id\").size()\n",
    "    cateogrical_data = cateogrical_data.merge(size.to_frame(), on = \"client_id\")\n",
    "    cateogrical_data = cateogrical_data[updated_cateogrical].div(size, axis = 0)\n",
    "    cateogrical_data.reset_index(inplace = True)\n",
    "    \n",
    "    stats = invoice_df.groupby(by = \"client_id\")[invoice_columns[2:11]].agg(['mean','std','min','max'])\n",
    "    stats.reset_index(inplace = True)\n",
    "    stats.columns = stats.columns.map(lambda x: x[0] + \" \" + str(x[1]) if x[0] != \"client_id\" else x[0]).str.strip('|')\n",
    "    \n",
    "    invoice_df = stats.merge(cateogrical_data, on = \"client_id\").reset_index(drop = True)\n",
    "    merged_df = invoice_df.merge(client_df, on = [\"client_id\"])\n",
    "    merged_df.fillna(0, inplace = True)\n",
    "    merged_df.drop(\"client_id\", axis = 1, inplace = True)\n",
    "    \n",
    "    return merged_df\n",
    "    \n",
    "training_df = feature_engineering(invoice_train_df, client_train_df)"
   ]
  },
  {
   "cell_type": "markdown",
   "id": "0864f9d7-6931-41be-a0cf-58b9a054010f",
   "metadata": {},
   "source": [
    "### **Splitting Data**\n",
    "The training data is split in 80-20 train and test data split for testing models' performance evaluation. The initial testing dataset given does not include the oberseved y (fraud) value so the testing data will have to come from the training set."
   ]
  },
  {
   "cell_type": "code",
   "execution_count": 51,
   "id": "26bdb467-090c-4107-982a-bac8caea7691",
   "metadata": {},
   "outputs": [],
   "source": [
    "# Split dataset into 80% training and 20% testing\n",
    "\n",
    "split_row = 0.8 * (len(training_df.index))\n",
    "train_df = training_df.loc[:split_row,:]\n",
    "test_df = training_df.loc[split_row:,:]\n",
    "\n",
    "x_train = train_df.loc[:,train_df.columns != \"target\"]\n",
    "y_train = train_df.loc[:,\"target\"]\n",
    "x_test = test_df.loc[:,test_df.columns != \"target\"]\n",
    "y_test = test_df.loc[:,\"target\"]"
   ]
  },
  {
   "cell_type": "code",
   "execution_count": 52,
   "id": "60c4b4d8-7efa-47ab-a992-8048c8bbcbab",
   "metadata": {},
   "outputs": [],
   "source": [
    "from sklearn import preprocessing\n",
    "\n",
    "min_max_scaler = preprocessing.MinMaxScaler()\n",
    "x_train = min_max_scaler.fit_transform(x_train)\n",
    "x_test = min_max_scaler.transform(x_test)"
   ]
  },
  {
   "cell_type": "markdown",
   "id": "40a7cfa5-8a2e-4ea9-b972-d7623d5abc77",
   "metadata": {},
   "source": [
    "### **Feature Selection**\n",
    "Highly correlated variables are removed by calculating correlation coefficient with a confidence interval of 0.05. Next, to determine features that are useful for prediction, penalized logistic regression with L2 norm is used instead of L1 or elastic to retain as many useful variables as possible. Given the large size of the dataset and relatively smaller number of features, curse of dimensionality should not be an issue and hence keeping more useful variables would improve the models' predictions capability. "
   ]
  },
  {
   "cell_type": "code",
   "execution_count": 74,
   "id": "49ea3de0-37d4-457d-ba2c-4947f602b118",
   "metadata": {},
   "outputs": [],
   "source": [
    "def correlation(df,threshold):\n",
    "\n",
    "    column_name = list(df.columns)\n",
    "    corr = df.corr().abs()\n",
    "    upper = corr.where(np.triu(np.ones(corr.shape), k=1).astype(bool))\n",
    "    to_drop = [column for column in upper.columns if any(upper[column] > threshold)]\n",
    "    df = df.drop(to_drop,axis = 1)\n",
    "    \n",
    "    return (df,to_drop)\n",
    "\n",
    "(x_train,to_drop) = correlation(x_train,0.95)\n",
    "x_test = x_test.drop(to_drop,axis = 1)"
   ]
  },
  {
   "cell_type": "code",
   "execution_count": 75,
   "id": "3dbe7f0a-c0b2-495b-9053-e988e6f35154",
   "metadata": {},
   "outputs": [],
   "source": [
    "from sklearn import linear_model\n",
    "\n",
    "def feature_selection(x_train, y_train, x_test):\n",
    "    \n",
    "    l2_LR = linear_model.LogisticRegression(penalty=\"l2\", tol=0.01, solver=\"saga\")\n",
    "    l2_LR.fit(x_train, y_train)\n",
    "    coef_l2_LR = l2_LR.coef_.ravel()\n",
    "    x_train = x_train.iloc[:,list(np.where(coef_l2_LR != 0)[0])]\n",
    "    x_test = x_test.iloc[:,list(np.where(coef_l2_LR != 0)[0])]\n",
    "    \n",
    "    return (x_train, x_test)\n",
    "    \n",
    "(x_train, x_test) = feature_selection(x_train, y_train, x_test)"
   ]
  },
  {
   "cell_type": "markdown",
   "id": "61d372cf-450b-426e-9672-a8116372f47c",
   "metadata": {},
   "source": [
    "### **Model training**\n",
    "The training dataset is relatively large at 100K+ rows which deters the usage of computationally heavy machine learning algorithm like support vector machines and deep learning network, high dimensionality also reduces the performance of certain models like KNN. The model has to perform well in a heavily biased testing data set where only 5% of clients are fraudulent, the trade-off between precision and recall is dependent on the electrical company's priority to either maximizing number of positive fraudulent cases (reducing loses from frauds) or minimizing wrongly predicted negative cases. As this priority is unknown, f1-score is used for the models' evualtion to have a balance between precision and recall."
   ]
  },
  {
   "cell_type": "code",
   "execution_count": 76,
   "id": "bfdf29e9-6bdc-4a7e-850f-6cb93a5a7b73",
   "metadata": {},
   "outputs": [],
   "source": [
    "from sklearn import metrics\n",
    "\n",
    "def performance_metrics(y_pred, y):\n",
    "\n",
    "    # calculate the different performance metrics \n",
    "    accuracy = metrics.accuracy_score(y, y_pred)\n",
    "    precision = metrics.precision_score(y, y_pred)\n",
    "    recall = metrics.recall_score(y, y_pred)\n",
    "    f1 = metrics.f1_score(y, y_pred)\n",
    "\n",
    "    # Printing out the metrics\n",
    "    print(\"-------------------------------\")\n",
    "    print(\"Accuracy: \" + str(accuracy))\n",
    "    print(\"precision: \" + str(precision))\n",
    "    print(\"Recall: \" + str(recall))\n",
    "    print(\"F1 Score: \" + str(f1))\n",
    "    print(\"-------------------------------\")\n",
    "    \n",
    "    return"
   ]
  },
  {
   "cell_type": "code",
   "execution_count": 96,
   "id": "f9ad38b7-6daf-4fbe-a52b-f0270672bd92",
   "metadata": {},
   "outputs": [],
   "source": [
    "from imblearn.over_sampling import RandomOverSampler\n",
    "from sklearn import model_selection\n",
    "\n",
    "def model_training(x_train, y_train, model, oversample):\n",
    "\n",
    "    # Oversample the minority class (Fraudulent cases)\n",
    "    rand = RandomOverSampler()\n",
    "\n",
    "    # K-fold cross validation\n",
    "    kfold = model_selection.KFold(n_splits = 5)\n",
    "    \n",
    "    for train, valid in kfold.split(x_train):\n",
    "        if oversample:\n",
    "            x_train_res, y_train_res  = rand.fit_resample(x_train.iloc[train,:], y_train.iloc[train])\n",
    "        else:\n",
    "            x_train_res, y_train_res = x_train.iloc[train,:], y_train.iloc[train]\n",
    "        model.fit(x_train_res, y_train_res)\n",
    "        y_pred = model.predict(x_train.iloc[valid,:])\n",
    "        performance_metrics(y_pred, y_train.iloc[valid])\n",
    "    \n",
    "    return "
   ]
  },
  {
   "cell_type": "code",
   "execution_count": 88,
   "id": "e4e1e224-485f-4111-9809-b83e17226a58",
   "metadata": {},
   "outputs": [],
   "source": [
    "def parameter_tuning(x_train, y_train, model, params):\n",
    "\n",
    "    grid_search = model_selection.GridSearchCV(estimator=model, param_grid=param,\n",
    "                           cv=5, n_jobs=-1,\n",
    "                           verbose=2, scoring='f1')\n",
    "    grid_search.fit(x_train, y_train)\n",
    "    return grid_search\n",
    "    "
   ]
  },
  {
   "cell_type": "markdown",
   "id": "df8156cd-430c-4c09-b526-13c946eff16f",
   "metadata": {},
   "source": [
    "#### K Nearest Neighbour\n"
   ]
  },
  {
   "cell_type": "code",
   "execution_count": 70,
   "id": "62882307-2a21-4025-8c1c-3e73bab720d0",
   "metadata": {},
   "outputs": [
    {
     "name": "stdout",
     "output_type": "stream",
     "text": [
      "-------------------------------\n",
      "Accuracy: 0.8671525439365284\n",
      "precision: 0.17759562841530055\n",
      "Recall: 0.3705211726384365\n",
      "F1 Score: 0.2401055408970976\n",
      "-------------------------------\n",
      "-------------------------------\n",
      "Accuracy: 0.8675215646478158\n",
      "precision: 0.18022145857197402\n",
      "Recall: 0.3943191311612364\n",
      "F1 Score: 0.2473794549266247\n",
      "-------------------------------\n",
      "-------------------------------\n",
      "Accuracy: 0.865491950735735\n",
      "precision: 0.1723347344287352\n",
      "Recall: 0.3755203996669442\n",
      "F1 Score: 0.23624934520691462\n",
      "-------------------------------\n",
      "-------------------------------\n",
      "Accuracy: 0.8665067576917754\n",
      "precision: 0.17980582524271846\n",
      "Recall: 0.3718875502008032\n",
      "F1 Score: 0.2424083769633508\n",
      "-------------------------------\n",
      "-------------------------------\n",
      "Accuracy: 0.8614788505004843\n",
      "precision: 0.16666666666666666\n",
      "Recall: 0.3699421965317919\n",
      "F1 Score: 0.229802513464991\n",
      "-------------------------------\n"
     ]
    }
   ],
   "source": [
    "from sklearn.neighbors import KNeighborsClassifier\n",
    "\n",
    "model_training(x_train, y_train, KNeighborsClassifier(), True)"
   ]
  },
  {
   "cell_type": "code",
   "execution_count": 71,
   "id": "8fc438a9-b66b-4073-81c1-2e8e4321396b",
   "metadata": {},
   "outputs": [
    {
     "name": "stdout",
     "output_type": "stream",
     "text": [
      "-------------------------------\n",
      "Accuracy: 0.9437243415286682\n",
      "precision: 0.5130718954248366\n",
      "Recall: 0.1278501628664495\n",
      "F1 Score: 0.2046936114732725\n",
      "-------------------------------\n",
      "-------------------------------\n",
      "Accuracy: 0.9448314036625306\n",
      "precision: 0.5016077170418006\n",
      "Recall: 0.13032581453634084\n",
      "F1 Score: 0.2068965517241379\n",
      "-------------------------------\n",
      "-------------------------------\n",
      "Accuracy: 0.9437704691175792\n",
      "precision: 0.4738372093023256\n",
      "Recall: 0.1357202331390508\n",
      "F1 Score: 0.21100323624595474\n",
      "-------------------------------\n",
      "-------------------------------\n",
      "Accuracy: 0.9420637483278749\n",
      "precision: 0.4827586206896552\n",
      "Recall: 0.12369477911646587\n",
      "F1 Score: 0.19693094629156013\n",
      "-------------------------------\n",
      "-------------------------------\n",
      "Accuracy: 0.942663406983717\n",
      "precision: 0.45348837209302323\n",
      "Recall: 0.12881915772089184\n",
      "F1 Score: 0.20064308681672025\n",
      "-------------------------------\n"
     ]
    }
   ],
   "source": [
    "model_training(x_train, y_train, KNeighborsClassifier(), False)"
   ]
  },
  {
   "cell_type": "code",
   "execution_count": 89,
   "id": "f20e0b1e-db40-4eb4-bf8c-f9b89c0e78bd",
   "metadata": {},
   "outputs": [
    {
     "name": "stdout",
     "output_type": "stream",
     "text": [
      "Fitting 5 folds for each of 6 candidates, totalling 30 fits\n"
     ]
    },
    {
     "data": {
      "text/plain": [
       "{'n_neighbors': 3, 'p': 2}"
      ]
     },
     "execution_count": 89,
     "metadata": {},
     "output_type": "execute_result"
    },
    {
     "name": "stdout",
     "output_type": "stream",
     "text": [
      "[CV 1/5] END ................n_neighbors=3, p=2;, score=0.228 total time=  54.9s\n",
      "[CV 4/5] END ................n_neighbors=3, p=2;, score=0.212 total time=  48.1s\n",
      "[CV 2/5] END ................n_neighbors=7, p=1;, score=0.186 total time= 6.5min\n",
      "[CV 1/5] END ...............n_neighbors=10, p=2;, score=0.137 total time=  42.2s\n",
      "[CV 2/5] END ...............n_neighbors=10, p=2;, score=0.157 total time=  44.2s\n",
      "[CV 3/5] END ...............n_neighbors=10, p=2;, score=0.147 total time=  47.5s\n",
      "[CV 4/5] END ...............n_neighbors=10, p=2;, score=0.142 total time= 1.0min\n",
      "[CV 5/5] END ...............n_neighbors=10, p=2;, score=0.139 total time=  52.7s\n",
      "[CV 2/5] END ................n_neighbors=3, p=1;, score=0.199 total time= 6.5min\n",
      "[CV 5/5] END ................n_neighbors=7, p=1;, score=0.160 total time= 7.3min\n",
      "[CV 5/5] END ................n_neighbors=3, p=1;, score=0.204 total time= 6.5min\n",
      "[CV 4/5] END ................n_neighbors=7, p=1;, score=0.181 total time= 7.3min\n"
     ]
    }
   ],
   "source": [
    "# Hyperparameter tuning\n",
    "param = {\n",
    "    'n_neighbors': [3,7,10],\n",
    "    'p': [1,2],\n",
    "}\n",
    "knn_grid = parameter_tuning(x_train, y_train, KNeighborsClassifier(), param)\n",
    "knn_grid.best_params_"
   ]
  },
  {
   "cell_type": "code",
   "execution_count": 120,
   "id": "e2c851a9-661f-4ba9-a697-1a8470d52c22",
   "metadata": {},
   "outputs": [
    {
     "name": "stdout",
     "output_type": "stream",
     "text": [
      "-------------------------------\n",
      "Accuracy: 0.9427633035648387\n",
      "precision: 0.4398563734290844\n",
      "Recall: 0.1650943396226415\n",
      "F1 Score: 0.24007839294463498\n",
      "-------------------------------\n"
     ]
    }
   ],
   "source": [
    "knn = KNeighborsClassifier(n_neighbors=3)\n",
    "knn.fit(x_train, y_train)\n",
    "y_pred = knn.predict(x_test)\n",
    "performance_metrics(y_pred, y_test)"
   ]
  },
  {
   "cell_type": "markdown",
   "id": "0b3e37bf-147d-44ad-bc9f-8b7788c0b2bb",
   "metadata": {},
   "source": [
    "#### Gradient Boosting"
   ]
  },
  {
   "cell_type": "code",
   "execution_count": 101,
   "id": "30369ae9-864c-4f52-aadc-917f5499027b",
   "metadata": {},
   "outputs": [
    {
     "name": "stdout",
     "output_type": "stream",
     "text": [
      "-------------------------------\n",
      "Accuracy: 0.7728216246136814\n",
      "precision: 0.16409231328366344\n",
      "Recall: 0.7353420195439739\n",
      "F1 Score: 0.26831080077254493\n",
      "-------------------------------\n",
      "-------------------------------\n",
      "Accuracy: 0.7735135384473454\n",
      "precision: 0.1614079883275579\n",
      "Recall: 0.7393483709273183\n",
      "F1 Score: 0.26497005988023953\n",
      "-------------------------------\n",
      "-------------------------------\n",
      "Accuracy: 0.7748051109368513\n",
      "precision: 0.16530278232405893\n",
      "Recall: 0.7568692756036636\n",
      "F1 Score: 0.27134328358208953\n",
      "-------------------------------\n",
      "-------------------------------\n",
      "Accuracy: 0.7746667281701185\n",
      "precision: 0.16800437796424664\n",
      "Recall: 0.7397590361445783\n",
      "F1 Score: 0.27382191169912296\n",
      "-------------------------------\n",
      "-------------------------------\n",
      "Accuracy: 0.7617510032750588\n",
      "precision: 0.1547327977645826\n",
      "Recall: 0.731626754748142\n",
      "F1 Score: 0.25544183364566814\n",
      "-------------------------------\n"
     ]
    }
   ],
   "source": [
    "from sklearn import ensemble\n",
    "\n",
    "model_training(x_train, y_train, ensemble.GradientBoostingClassifier(), True)"
   ]
  },
  {
   "cell_type": "code",
   "execution_count": 98,
   "id": "0e3f5334",
   "metadata": {},
   "outputs": [
    {
     "name": "stdout",
     "output_type": "stream",
     "text": [
      "-------------------------------\n",
      "Accuracy: 0.9457539554407491\n",
      "precision: 0.5962962962962963\n",
      "Recall: 0.13110749185667753\n",
      "F1 Score: 0.2149532710280374\n",
      "-------------------------------\n",
      "-------------------------------\n",
      "Accuracy: 0.9482909728308502\n",
      "precision: 0.6241830065359477\n",
      "Recall: 0.1595655806182122\n",
      "F1 Score: 0.2541583499667332\n",
      "-------------------------------\n",
      "-------------------------------\n",
      "Accuracy: 0.9472300382858988\n",
      "precision: 0.6083650190114068\n",
      "Recall: 0.13322231473771856\n",
      "F1 Score: 0.21857923497267756\n",
      "-------------------------------\n",
      "-------------------------------\n",
      "Accuracy: 0.9453388071405507\n",
      "precision: 0.5961538461538461\n",
      "Recall: 0.1493975903614458\n",
      "F1 Score: 0.23892100192678226\n",
      "-------------------------------\n",
      "-------------------------------\n",
      "Accuracy: 0.945846210618571\n",
      "precision: 0.5562310030395137\n",
      "Recall: 0.15111478117258464\n",
      "F1 Score: 0.23766233766233769\n",
      "-------------------------------\n"
     ]
    }
   ],
   "source": [
    "model_training(x_train, y_train, ensemble.GradientBoostingClassifier(), False)"
   ]
  },
  {
   "cell_type": "code",
   "execution_count": 99,
   "id": "ec0724ec-0a6f-49a0-af2f-585fbdc906aa",
   "metadata": {},
   "outputs": [
    {
     "name": "stdout",
     "output_type": "stream",
     "text": [
      "Fitting 5 folds for each of 2 candidates, totalling 10 fits\n",
      "[CV] END ...............learning_rate=0.75, n_estimators=400; total time= 5.2min\n",
      "[CV] END ...............learning_rate=0.75, n_estimators=400; total time= 5.2min\n",
      "[CV] END ...............learning_rate=0.75, n_estimators=400; total time= 5.2min\n",
      "[CV] END ...............learning_rate=0.75, n_estimators=500; total time= 6.3min\n",
      "[CV] END ...............learning_rate=0.75, n_estimators=500; total time= 6.3min\n",
      "[CV] END ...............learning_rate=0.75, n_estimators=500; total time= 6.4min\n"
     ]
    },
    {
     "data": {
      "text/plain": [
       "{'learning_rate': 0.75, 'n_estimators': 500}"
      ]
     },
     "execution_count": 99,
     "metadata": {},
     "output_type": "execute_result"
    },
    {
     "name": "stdout",
     "output_type": "stream",
     "text": [
      "[CV] END ...............learning_rate=0.75, n_estimators=400; total time= 5.2min\n",
      "[CV] END ...............learning_rate=0.75, n_estimators=500; total time= 4.6min\n",
      "[CV] END ...............learning_rate=0.75, n_estimators=400; total time= 5.2min\n",
      "[CV] END ...............learning_rate=0.75, n_estimators=500; total time= 4.6min\n"
     ]
    }
   ],
   "source": [
    "# Hyperparameter tuning\n",
    "param = {\n",
    "    'learning_rate': [0.75],\n",
    "    'n_estimators' : [400,500],\n",
    "}\n",
    "gradboost_grid = parameter_tuning(x_train, y_train, ensemble.GradientBoostingClassifier(), param)\n",
    "gradboost_grid.best_params_"
   ]
  },
  {
   "cell_type": "code",
   "execution_count": 100,
   "id": "45bf1b45-ff16-4098-b607-478b7492e7d3",
   "metadata": {},
   "outputs": [
    {
     "name": "stdout",
     "output_type": "stream",
     "text": [
      "-------------------------------\n",
      "Accuracy: 0.9429478190272345\n",
      "precision: 0.45481049562682213\n",
      "Recall: 0.21024258760107817\n",
      "F1 Score: 0.28755760368663597\n",
      "-------------------------------\n"
     ]
    }
   ],
   "source": [
    "gradboost = ensemble.GradientBoostingClassifier(learning_rate = 0.75, min_samples_split = 5, n_estimators = 500)\n",
    "gradboost.fit(x_train, y_train)\n",
    "y_pred = gradboost.predict(x_test)\n",
    "performance_metrics(y_pred, y_test)"
   ]
  },
  {
   "cell_type": "markdown",
   "id": "46d211e8-6d39-4a89-a136-a028072ec155",
   "metadata": {},
   "source": [
    "#### Logistic Regression"
   ]
  },
  {
   "cell_type": "code",
   "execution_count": 130,
   "id": "7a014dbf-e051-494c-870a-d60937a70a6a",
   "metadata": {},
   "outputs": [
    {
     "name": "stdout",
     "output_type": "stream",
     "text": [
      "-------------------------------\n",
      "Accuracy: 0.6999400341344157\n",
      "precision: 0.11810681719496309\n",
      "Recall: 0.6644951140065146\n",
      "F1 Score: 0.20056531891360452\n",
      "-------------------------------\n",
      "-------------------------------\n",
      "Accuracy: 0.7041376447253103\n",
      "precision: 0.11520873285145301\n",
      "Recall: 0.6524644945697577\n",
      "F1 Score: 0.19583751253761283\n",
      "-------------------------------\n",
      "-------------------------------\n",
      "Accuracy: 0.7082430001383828\n",
      "precision: 0.11715481171548117\n",
      "Recall: 0.652789342214821\n",
      "F1 Score: 0.1986570378816673\n",
      "-------------------------------\n",
      "-------------------------------\n",
      "Accuracy: 0.7032612205360026\n",
      "precision: 0.11964809384164223\n",
      "Recall: 0.655421686746988\n",
      "F1 Score: 0.2023558586484811\n",
      "-------------------------------\n",
      "-------------------------------\n",
      "Accuracy: 0.6995710134231283\n",
      "precision: 0.11701820283155158\n",
      "Recall: 0.6688687035507844\n",
      "F1 Score: 0.19918849133161196\n",
      "-------------------------------\n"
     ]
    }
   ],
   "source": [
    "model_training(x_train, y_train, linear_model.LogisticRegression(max_iter = 800), True)"
   ]
  },
  {
   "cell_type": "code",
   "execution_count": 131,
   "id": "bb82ad4c",
   "metadata": {},
   "outputs": [
    {
     "name": "stdout",
     "output_type": "stream",
     "text": [
      "-------------------------------\n",
      "Accuracy: 0.6979565478112459\n",
      "precision: 0.11770623742454728\n",
      "Recall: 0.6669381107491856\n",
      "F1 Score: 0.20009772782799903\n",
      "-------------------------------\n",
      "-------------------------------\n",
      "Accuracy: 0.7030767101803589\n",
      "precision: 0.11527165932452275\n",
      "Recall: 0.6558061821219716\n",
      "F1 Score: 0.19607843137254902\n",
      "-------------------------------\n",
      "-------------------------------\n",
      "Accuracy: 0.7062595138152129\n",
      "precision: 0.1164068299925761\n",
      "Recall: 0.652789342214821\n",
      "F1 Score: 0.1975806451612903\n",
      "-------------------------------\n",
      "-------------------------------\n",
      "Accuracy: 0.7025231791134278\n",
      "precision: 0.1192566578870354\n",
      "Recall: 0.6546184738955824\n",
      "F1 Score: 0.20175764327268225\n",
      "-------------------------------\n",
      "-------------------------------\n",
      "Accuracy: 0.6987868444116426\n",
      "precision: 0.11695232608382544\n",
      "Recall: 0.6705202312138728\n",
      "F1 Score: 0.19916605347068925\n",
      "-------------------------------\n"
     ]
    }
   ],
   "source": [
    "model_training(x_train, y_train, linear_model.LogisticRegression(max_iter = 800), True)"
   ]
  },
  {
   "cell_type": "code",
   "execution_count": 133,
   "id": "ab8df278-9c70-4166-bddc-3d8c586f80d1",
   "metadata": {},
   "outputs": [
    {
     "name": "stdout",
     "output_type": "stream",
     "text": [
      "Fitting 5 folds for each of 9 candidates, totalling 45 fits\n"
     ]
    }
   ],
   "source": [
    "# Hyperparameter tuning\n",
    "param = {\n",
    "    'C': [0.5,1,1.5],\n",
    "    'tol' : [1e-6,1e-5,1e-4] \n",
    "}\n",
    "logreg_grid = parameter_tuning(x_train, y_train, linear_model.LogisticRegression(max_iter = 800), param)"
   ]
  },
  {
   "cell_type": "markdown",
   "id": "d80f6bd6-d002-467b-b62e-8eae1884a3d0",
   "metadata": {},
   "source": [
    "#### Decision Tree"
   ]
  },
  {
   "cell_type": "code",
   "execution_count": 77,
   "id": "6efdf586-13cc-426e-8a30-aa5dc43b595c",
   "metadata": {},
   "outputs": [
    {
     "name": "stdout",
     "output_type": "stream",
     "text": [
      "-------------------------------\n",
      "Accuracy: 0.9116656672355736\n",
      "precision: 0.2144638403990025\n",
      "Recall: 0.21009771986970685\n",
      "F1 Score: 0.21225832990538873\n",
      "-------------------------------\n",
      "-------------------------------\n",
      "Accuracy: 0.9122653258914156\n",
      "precision: 0.22134387351778656\n",
      "Recall: 0.23391812865497075\n",
      "F1 Score: 0.22745735174654752\n",
      "-------------------------------\n",
      "-------------------------------\n",
      "Accuracy: 0.9130033673139905\n",
      "precision: 0.2231204527081649\n",
      "Recall: 0.22980849292256453\n",
      "F1 Score: 0.22641509433962265\n",
      "-------------------------------\n",
      "-------------------------------\n",
      "Accuracy: 0.9122191983025048\n",
      "precision: 0.23295454545454544\n",
      "Recall: 0.23052208835341365\n",
      "F1 Score: 0.23173193379087603\n",
      "-------------------------------\n",
      "-------------------------------\n",
      "Accuracy: 0.9118501775912173\n",
      "precision: 0.22440944881889763\n",
      "Recall: 0.23534269199009084\n",
      "F1 Score: 0.22974607013301088\n",
      "-------------------------------\n"
     ]
    }
   ],
   "source": [
    "from sklearn import tree\n",
    "model_training(x_train, y_train, tree.DecisionTreeClassifier(), True)"
   ]
  },
  {
   "cell_type": "code",
   "execution_count": 78,
   "id": "905c0201-78cc-4ba8-86c2-d5ce874a5910",
   "metadata": {},
   "outputs": [
    {
     "name": "stdout",
     "output_type": "stream",
     "text": [
      "-------------------------------\n",
      "Accuracy: 0.9092670326122053\n",
      "precision: 0.23512544802867383\n",
      "Recall: 0.2671009771986971\n",
      "F1 Score: 0.2500953107129241\n",
      "-------------------------------\n",
      "-------------------------------\n",
      "Accuracy: 0.9108353706351769\n",
      "precision: 0.23020527859237536\n",
      "Recall: 0.2623224728487886\n",
      "F1 Score: 0.24521671222178834\n",
      "-------------------------------\n",
      "-------------------------------\n",
      "Accuracy: 0.9108814982240878\n",
      "precision: 0.21732405259087392\n",
      "Recall: 0.23397169025811823\n",
      "F1 Score: 0.22534081796311145\n",
      "-------------------------------\n",
      "-------------------------------\n",
      "Accuracy: 0.907606439411412\n",
      "precision: 0.23309859154929577\n",
      "Recall: 0.26586345381526105\n",
      "F1 Score: 0.2484052532833021\n",
      "-------------------------------\n",
      "-------------------------------\n",
      "Accuracy: 0.9081599704783431\n",
      "precision: 0.2237960339943343\n",
      "Recall: 0.26094137076796037\n",
      "F1 Score: 0.24094548227220738\n",
      "-------------------------------\n"
     ]
    }
   ],
   "source": [
    "model_training(x_train, y_train, tree.DecisionTreeClassifier(), False)"
   ]
  }
 ],
 "metadata": {
  "kernelspec": {
   "display_name": "Python 3 (ipykernel)",
   "language": "python",
   "name": "python3"
  },
  "language_info": {
   "codemirror_mode": {
    "name": "ipython",
    "version": 3
   },
   "file_extension": ".py",
   "mimetype": "text/x-python",
   "name": "python",
   "nbconvert_exporter": "python",
   "pygments_lexer": "ipython3",
   "version": "3.11.2"
  }
 },
 "nbformat": 4,
 "nbformat_minor": 5
}
